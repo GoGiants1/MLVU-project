{
 "cells": [
  {
   "cell_type": "code",
   "execution_count": null,
   "metadata": {},
   "outputs": [],
   "source": [
    "from .convert_cldm_to_diffusers import convert"
   ]
  },
  {
   "cell_type": "code",
   "execution_count": null,
   "metadata": {},
   "outputs": [],
   "source": [
    "model_files = [\n",
    "    \"laion10M_epoch_6_model_ema_only.ckpt\",\n",
    "    \"textcaps5K_epoch_40_model_ema_only.ckpt\",\n",
    "]\n",
    "\n",
    "# EMA models for training\n",
    "for model_file_name in model_files:\n",
    "    convert(\n",
    "    token=\"\",\n",
    "    model_id=\"GoGiants1/GlyphControls\",\n",
    "    filename=model_file_name,\n",
    "    model_type=\"GlyphControl\",\n",
    "    extract_ema=False,\n",
    "    )\n",
    "\n",
    "# non-EMA models for inference\n",
    "for model_file_name in model_files:\n",
    "    convert(\n",
    "    token=\"\",\n",
    "    model_id=\"GoGiants1/GlyphControls\",\n",
    "    filename=model_file_name,\n",
    "    model_type=\"GlyphControl\",\n",
    "    extract_ema=True,\n",
    "    )"
   ]
  }
 ],
 "metadata": {
  "language_info": {
   "name": "python"
  }
 },
 "nbformat": 4,
 "nbformat_minor": 2
}
