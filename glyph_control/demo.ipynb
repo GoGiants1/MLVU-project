{
 "cells": [
  {
   "cell_type": "code",
   "execution_count": null,
   "metadata": {},
   "outputs": [],
   "source": [
    "from hi_sam.text_segmentation import load_sam_predictor, make_text_segmentation_args\n",
    "\n",
    "\n",
    "arg = make_text_segmentation_args(\n",
    "    model_type='sam_tss_l',\n",
    "    checkpoint_path='sam_tss_l_textseg.pth',\n",
    "    input_size=(512, 512),\n",
    ")\n",
    "\n",
    "sam = load_sam_predictor(arg)\n"
   ]
  },
  {
   "cell_type": "code",
   "execution_count": null,
   "metadata": {},
   "outputs": [],
   "source": [
    "from diffusers.utils import load_image\n",
    "from hi_sam.text_segmentation import run_text_stroke_segmentation\n",
    "\n",
    "\n",
    "hf_dataset_base_url = \"https://huggingface.co/datasets/GoGiants1/TMDBEval500/resolve/main/TMDBEval500/images/\"\n",
    "input_image = load_image(hf_dataset_base_url + '1.jpg')\n",
    "\n",
    "mask_w_patchify = run_text_stroke_segmentation(sam_detector=sam, input_path=input_image, patch_mode=True)"
   ]
  },
  {
   "cell_type": "code",
   "execution_count": null,
   "metadata": {},
   "outputs": [],
   "source": [
    "display(mask_w_patchify)"
   ]
  },
  {
   "cell_type": "code",
   "execution_count": null,
   "metadata": {},
   "outputs": [],
   "source": [
    "mask_wo_patchify = run_text_stroke_segmentation(sam_detector=sam, input_path=input_image, patch_mode=False)"
   ]
  },
  {
   "cell_type": "code",
   "execution_count": null,
   "metadata": {},
   "outputs": [],
   "source": [
    "display(mask_wo_patchify)"
   ]
  }
 ],
 "metadata": {
  "language_info": {
   "name": "python"
  }
 },
 "nbformat": 4,
 "nbformat_minor": 2
}
