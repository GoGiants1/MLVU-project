{
 "cells": [
  {
   "cell_type": "code",
   "execution_count": null,
   "metadata": {},
   "outputs": [
    {
     "ename": "",
     "evalue": "",
     "output_type": "error",
     "traceback": [
      "\u001b[1;31mRunning cells with '.venv (Python 3.11.4)' requires the ipykernel package.\n",
      "\u001b[1;31mRun the following command to install 'ipykernel' into the Python environment. \n",
      "\u001b[1;31mCommand: '/Users/woogie/mlvu-project/.venv/bin/python -m pip install ipykernel -U --force-reinstall'"
     ]
    }
   ],
   "source": [
    "import cv2\n",
    "import torch\n",
    "from PIL import Image\n",
    "from t_diffusers.unet_2d_condition import UNet2DConditionModel\n",
    "\n",
    "from diffusers import AutoencoderKL, DDPMScheduler\n",
    "\n",
    "from .pipeline_text_diffuser_sd15 import StableDiffusionPipeline\n",
    "\n",
    "\n",
    "td_ckpt = \"GoGiants1/td-unet15\"\n",
    "\n",
    "vae = AutoencoderKL.from_pretrained(\n",
    "    \"runwayml/stable-diffusion-v1-5\"\n",
    ")\n",
    "unet = UNet2DConditionModel(\n",
    "    td_ckpt,\n",
    "    subfolder=\"unet\",\n",
    ")\n",
    "\n",
    "pipe = StableDiffusionPipeline.from_pretrained(\n",
    "    \"runwayml/stable-diffusion-v1-5\",\n",
    "    vae=vae,\n",
    "    unet=unet,\n",
    "    torch_dtype=torch.float32,\n",
    ")\n",
    "pipe.load_ip_adapter(\n",
    "    \"h94/IP-Adapter\",\n",
    "    subfolder=[\n",
    "        \"models\",\n",
    "    ],\n",
    "    weight_name=[\n",
    "        \"ip-adapter_sd15.safetensors\",\n",
    "    ],\n",
    ")\n",
    "pipe.set_ip_adapter_scale(0.5)\n",
    "\n",
    "text_mask_image = cv2.imread(\"text_mask.png\")\n",
    "\n",
    "input_image = Image.open(\"original_image.png\").convert(\"RGB\").resize((512, 512))\n",
    "\n",
    "pipe.scheduler = DDPMScheduler.from_config(pipe.scheduler.config)\n",
    "generator = torch.Generator(device=\"cuda\").manual_seed(42)\n",
    "pipe(\n",
    "    prompt=\"A painting of a cat with a text mask\",\n",
    "    input_image=input_image,\n",
    "    text_mask_image=text_mask_image,\n",
    "    ip_adapter_image = input_image,\n",
    "    width=512,\n",
    "    height=512,\n",
    "    guidance_scale=7,\n",
    "    generator=generator,\n",
    ")\n"
   ]
  }
 ],
 "metadata": {
  "kernelspec": {
   "display_name": ".venv",
   "language": "python",
   "name": "python3"
  },
  "language_info": {
   "name": "python",
   "version": "3.12.3"
  }
 },
 "nbformat": 4,
 "nbformat_minor": 2
}
